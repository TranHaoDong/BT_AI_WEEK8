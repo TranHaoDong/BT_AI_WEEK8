{
  "nbformat": 4,
  "nbformat_minor": 0,
  "metadata": {
    "colab": {
      "provenance": [],
      "mount_file_id": "1tx2RlX9nP9OGyKT7XPKxp4zqDzCCO9wF",
      "authorship_tag": "ABX9TyP+EukgrtwCQNXjVwQqgeUx",
      "include_colab_link": true
    },
    "kernelspec": {
      "name": "python3",
      "display_name": "Python 3"
    },
    "language_info": {
      "name": "python"
    }
  },
  "cells": [
    {
      "cell_type": "markdown",
      "metadata": {
        "id": "view-in-github",
        "colab_type": "text"
      },
      "source": [
        "<a href=\"https://colab.research.google.com/github/TranHaoDong/BT_AI_WEEK9-15/blob/main/Week10/W10_Cifar100.ipynb\" target=\"_parent\"><img src=\"https://colab.research.google.com/assets/colab-badge.svg\" alt=\"Open In Colab\"/></a>"
      ]
    },
    {
      "cell_type": "code",
      "execution_count": null,
      "metadata": {
        "id": "28waYZ4pwDiE"
      },
      "outputs": [],
      "source": [
        "\n",
        "import matplotlib.pyplot as plt\n",
        "from keras.layers import Dense\n",
        "from keras.utils import to_categorical"
      ]
    },
    {
      "cell_type": "code",
      "source": [
        "from keras.datasets import cifar100\n",
        "\n",
        "(x_train, y_train), (x_test, y_test) = cifar100.load_data()"
      ],
      "metadata": {
        "id": "DUxIuPh_wJkZ"
      },
      "execution_count": null,
      "outputs": []
    },
    {
      "cell_type": "code",
      "source": [
        "print(x_test.shape)\n",
        "print(x_train.shape)"
      ],
      "metadata": {
        "colab": {
          "base_uri": "https://localhost:8080/"
        },
        "id": "v_yavRFFwNnS",
        "outputId": "fad28b71-fcbc-4f7f-df8f-4850d18af886"
      },
      "execution_count": null,
      "outputs": [
        {
          "output_type": "stream",
          "name": "stdout",
          "text": [
            "(10000, 32, 32, 3)\n",
            "(50000, 32, 32, 3)\n"
          ]
        }
      ]
    },
    {
      "cell_type": "code",
      "source": [
        "x_train = x_train.reshape(50000, 32*32*3)\n",
        "x_train1 = x_train.astype('float32')/255\n",
        "x_test = x_test.reshape(10000, 32*32*3)\n",
        "x_test1 = x_test.astype('float32')/255"
      ],
      "metadata": {
        "id": "J--3qms9xCA7"
      },
      "execution_count": null,
      "outputs": []
    },
    {
      "cell_type": "code",
      "source": [
        "from keras.utils import to_categorical\n",
        "y_train1 = to_categorical(y_train, 100)\n",
        "y_test1 = to_categorical(y_test, 100)"
      ],
      "metadata": {
        "id": "yVowVEoYya8k"
      },
      "execution_count": null,
      "outputs": []
    },
    {
      "cell_type": "code",
      "source": [
        "from keras.layers import Dense\n",
        "from keras.models import Sequential\n",
        "model = Sequential()\n",
        "model.add(Dense(2000,input_shape = (32*32*3,), activation='relu', name=\"Layer_1\"))\n",
        "model.add(Dense(1000,input_shape = (32*32*3,), activation='relu', name=\"Layer_2\"))\n",
        "model.add(Dense(500,input_shape = (32*32*3,), activation='relu', name=\"Layer_3\"))\n",
        "model.add(Dense(250,input_shape = (32*32*3,), activation='relu', name=\"Layer_4\"))\n",
        "\n",
        "model.add(Dense(100,activation='softmax', name = \"Output_layer\"))\n",
        "\n",
        "print(model.summary())"
      ],
      "metadata": {
        "colab": {
          "base_uri": "https://localhost:8080/"
        },
        "id": "MuPLfJaSz_og",
        "outputId": "ed432648-16b4-4589-e530-a35755241b61"
      },
      "execution_count": null,
      "outputs": [
        {
          "output_type": "stream",
          "name": "stdout",
          "text": [
            "Model: \"sequential_6\"\n",
            "_________________________________________________________________\n",
            " Layer (type)                Output Shape              Param #   \n",
            "=================================================================\n",
            " Layer_1 (Dense)             (None, 2000)              6146000   \n",
            "                                                                 \n",
            " Layer_2 (Dense)             (None, 1000)              2001000   \n",
            "                                                                 \n",
            " Layer_3 (Dense)             (None, 500)               500500    \n",
            "                                                                 \n",
            " Layer_4 (Dense)             (None, 250)               125250    \n",
            "                                                                 \n",
            " Output_layer (Dense)        (None, 100)               25100     \n",
            "                                                                 \n",
            "=================================================================\n",
            "Total params: 8,797,850\n",
            "Trainable params: 8,797,850\n",
            "Non-trainable params: 0\n",
            "_________________________________________________________________\n",
            "None\n"
          ]
        }
      ]
    },
    {
      "cell_type": "code",
      "source": [
        "#Bien dich\n",
        "model.compile(optimizer = 'rmsprop', loss = 'categorical_crossentropy', metrics=['accuracy'])\n",
        "model.fit(x_train1, y_train1, epochs = 10, batch_size = 128)\n",
        "test_loss, test_acc = model.evaluate(x_test1, y_test1)\n",
        "print('test_accunacy:', test_acc)\n",
        "print('test_loss:', test_loss)"
      ],
      "metadata": {
        "colab": {
          "base_uri": "https://localhost:8080/"
        },
        "id": "zj_SWien22uC",
        "outputId": "b306d19c-7d9d-4e6d-d310-cc4d0ff54930"
      },
      "execution_count": null,
      "outputs": [
        {
          "output_type": "stream",
          "name": "stdout",
          "text": [
            "Epoch 1/10\n",
            "391/391 [==============================] - 46s 115ms/step - loss: 4.3234 - accuracy: 0.0451\n",
            "Epoch 2/10\n",
            "391/391 [==============================] - 46s 117ms/step - loss: 3.9238 - accuracy: 0.0939\n",
            "Epoch 3/10\n",
            "391/391 [==============================] - 45s 115ms/step - loss: 3.7165 - accuracy: 0.1325\n",
            "Epoch 4/10\n",
            "391/391 [==============================] - 44s 112ms/step - loss: 3.5763 - accuracy: 0.1544\n",
            "Epoch 5/10\n",
            "391/391 [==============================] - 46s 116ms/step - loss: 3.4588 - accuracy: 0.1749\n",
            "Epoch 6/10\n",
            "391/391 [==============================] - 46s 118ms/step - loss: 3.3639 - accuracy: 0.1897\n",
            "Epoch 7/10\n",
            "391/391 [==============================] - 45s 115ms/step - loss: 3.2789 - accuracy: 0.2054\n",
            "Epoch 8/10\n",
            "391/391 [==============================] - 45s 114ms/step - loss: 3.1982 - accuracy: 0.2206\n",
            "Epoch 9/10\n",
            "391/391 [==============================] - 45s 116ms/step - loss: 3.1247 - accuracy: 0.2308\n",
            "Epoch 10/10\n",
            "391/391 [==============================] - 46s 116ms/step - loss: 3.0470 - accuracy: 0.2498\n",
            "313/313 [==============================] - 4s 13ms/step - loss: 3.3132 - accuracy: 0.2211\n",
            "test_accunacy: 0.22110000252723694\n",
            "test_loss: 3.3132219314575195\n"
          ]
        }
      ]
    },
    {
      "cell_type": "code",
      "source": [
        "model.save('/content/drive/MyDrive/Colab Notebooks/W10_Cifar100.h5')\n"
      ],
      "metadata": {
        "id": "uWcMUyvb3IF0"
      },
      "execution_count": null,
      "outputs": []
    },
    {
      "cell_type": "code",
      "source": [],
      "metadata": {
        "id": "MtsNAulO8sVe"
      },
      "execution_count": null,
      "outputs": []
    }
  ]
}