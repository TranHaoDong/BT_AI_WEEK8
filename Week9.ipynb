{
  "nbformat": 4,
  "nbformat_minor": 0,
  "metadata": {
    "colab": {
      "provenance": [],
      "authorship_tag": "ABX9TyNF5VLaDLOuHcCDI3ECQMdV",
      "include_colab_link": true
    },
    "kernelspec": {
      "name": "python3",
      "display_name": "Python 3"
    },
    "language_info": {
      "name": "python"
    }
  },
  "cells": [
    {
      "cell_type": "markdown",
      "metadata": {
        "id": "view-in-github",
        "colab_type": "text"
      },
      "source": [
        "<a href=\"https://colab.research.google.com/github/TranHaoDong/BT_AI_WEEK9-15/blob/main/Week9.ipynb\" target=\"_parent\"><img src=\"https://colab.research.google.com/assets/colab-badge.svg\" alt=\"Open In Colab\"/></a>"
      ]
    },
    {
      "cell_type": "code",
      "execution_count": null,
      "metadata": {
        "id": "X4RqzqlKUnAT"
      },
      "outputs": [],
      "source": [
        "from keras.datasets import mnist\n"
      ]
    },
    {
      "cell_type": "code",
      "source": [
        "import numpy as np\n",
        "import matplotlib.pyplot as plt"
      ],
      "metadata": {
        "id": "CU1FXCvmWk8n"
      },
      "execution_count": null,
      "outputs": []
    },
    {
      "cell_type": "code",
      "source": [
        "from keras.datasets import mnist\n",
        "(train_images, train_labels),(test_images,test_labels) = mnist.load_data()\n",
        "len(train_images)"
      ],
      "metadata": {
        "colab": {
          "base_uri": "https://localhost:8080/"
        },
        "id": "3VSPlSrOUoXA",
        "outputId": "55d138b2-b069-4172-a441-fa139d9566b2"
      },
      "execution_count": null,
      "outputs": [
        {
          "output_type": "execute_result",
          "data": {
            "text/plain": [
              "60000"
            ]
          },
          "metadata": {},
          "execution_count": 25
        }
      ]
    },
    {
      "cell_type": "code",
      "source": [
        "from keras.models import Sequential\n",
        "(train_images, train_labels), (test_images, test_labels ) = mnist.load_data()\n",
        "\n",
        "hinh = train_images[5000]\n",
        "plt.imshow(hinh,cmap=plt.cm.binary)\n",
        "plt.show()\n",
        "print('so nay la',train_labels[5000])\n"
      ],
      "metadata": {
        "colab": {
          "base_uri": "https://localhost:8080/",
          "height": 282
        },
        "id": "KV2oSdRRU6iN",
        "outputId": "813db944-ea47-459d-c277-792904beb4a0"
      },
      "execution_count": null,
      "outputs": [
        {
          "output_type": "display_data",
          "data": {
            "text/plain": [
              "<Figure size 432x288 with 1 Axes>"
            ],
            "image/png": "[encoded data removed]"
          },
          "metadata": {
            "needs_background": "light"
          }
        },
        {
          "output_type": "stream",
          "name": "stdout",
          "text": [
            "so nay la 7\n"
          ]
        }
      ]
    },
    {
      "cell_type": "code",
      "source": [
        "for i in range(10):\n",
        "  plt.subplot(3, 5, i+1)\n",
        "  plt.tight_layout()\n",
        "  plt.imshow(train_images[i], cmap = 'gray', interpolation = 'none')\n",
        "  plt.title('So {}'.format(train_labels[i]))\n",
        "  plt.xticks([])\n",
        "  plt.yticks([])\n",
        "\n"
      ],
      "metadata": {
        "colab": {
          "base_uri": "https://localhost:8080/",
          "height": 196
        },
        "id": "XFsuhAEWVMhK",
        "outputId": "ca031d09-0e30-4e59-e810-f69be4a0eb28"
      },
      "execution_count": null,
      "outputs": [
        {
          "output_type": "display_data",
          "data": {
            "text/plain": [
              "<Figure size 432x288 with 10 Axes>"
            ],
            "image/png": "[encoded data removed]"
          },
          "metadata": {}
        }
      ]
    },
    {
      "cell_type": "code",
      "source": [
        "from keras.layers import Dense\n",
        "model = Sequential()\n",
        "model.add(Dense(512,input_shape = (28*28,), activation='relu', name=\"Layer_1\"))\n",
        "model.add(Dense(10,activation='softmax', name = \"Output_layer\"))\n",
        "print(model.summary())"
      ],
      "metadata": {
        "colab": {
          "base_uri": "https://localhost:8080/"
        },
        "id": "jrj1bjTYXG1-",
        "outputId": "da9c385c-7d58-4ee2-bb81-d720a8a379a6"
      },
      "execution_count": null,
      "outputs": [
        {
          "output_type": "stream",
          "name": "stdout",
          "text": [
            "Model: \"sequential_13\"\n",
            "_________________________________________________________________\n",
            " Layer (type)                Output Shape              Param #   \n",
            "=================================================================\n",
            " Layer_1 (Dense)             (None, 512)               401920    \n",
            "                                                                 \n",
            " Output_layer (Dense)        (None, 10)                5130      \n",
            "                                                                 \n",
            "=================================================================\n",
            "Total params: 407,050\n",
            "Trainable params: 407,050\n",
            "Non-trainable params: 0\n",
            "_________________________________________________________________\n",
            "None\n"
          ]
        }
      ]
    },
    {
      "cell_type": "code",
      "source": [
        "train_images = train_images.reshape((60000, 28*28))\n",
        "train_image = train_images.astype('float32')/255 \n",
        "test_images = test_images.reshape((10000, 28*28))\n",
        "test_image = test_images.astype('float32')/255"
      ],
      "metadata": {
        "id": "aEGiQbvNYlmJ"
      },
      "execution_count": null,
      "outputs": []
    },
    {
      "cell_type": "code",
      "source": [
        "from keras.utils import to_categorical\n",
        "train_label = to_categorical(train_labels, 10)\n",
        "test_label = to_categorical(test_labels, 10)"
      ],
      "metadata": {
        "id": "JfY6x2OuZzsD"
      },
      "execution_count": null,
      "outputs": []
    },
    {
      "cell_type": "code",
      "source": [
        "#Bien dich\n",
        "model.compile(optimizer = 'rmsprop', loss = 'categorical_crossentropy', metrics=['accuracy'])\n",
        "model.fit(train_image, train_label, epochs = 10, batch_size = 128)\n",
        "test_loss, test_acc = model.evaluate(test_image, test_label)\n",
        "print('test_accunacy:', test_acc)\n",
        "print('test_loss:', test_loss)"
      ],
      "metadata": {
        "colab": {
          "base_uri": "https://localhost:8080/"
        },
        "id": "GVZUOnmwaVRq",
        "outputId": "f405d315-762e-4593-adde-1562c7318cdb"
      },
      "execution_count": null,
      "outputs": [
        {
          "output_type": "stream",
          "name": "stdout",
          "text": [
            "Epoch 1/10\n",
            "469/469 [==============================] - 3s 6ms/step - loss: 0.0070 - accuracy: 0.9984\n",
            "Epoch 2/10\n",
            "469/469 [==============================] - 3s 6ms/step - loss: 0.0047 - accuracy: 0.9992\n",
            "Epoch 3/10\n",
            "469/469 [==============================] - 3s 6ms/step - loss: 0.0038 - accuracy: 0.9993\n",
            "Epoch 4/10\n",
            "469/469 [==============================] - 3s 7ms/step - loss: 0.0026 - accuracy: 0.9996\n",
            "Epoch 5/10\n",
            "469/469 [==============================] - 3s 6ms/step - loss: 0.0019 - accuracy: 0.9998\n",
            "Epoch 6/10\n",
            "469/469 [==============================] - 3s 6ms/step - loss: 0.0010 - accuracy: 0.9999\n",
            "Epoch 7/10\n",
            "469/469 [==============================] - 3s 6ms/step - loss: 7.2116e-04 - accuracy: 1.0000\n",
            "Epoch 8/10\n",
            "469/469 [==============================] - 3s 7ms/step - loss: 5.6324e-04 - accuracy: 0.9999\n",
            "Epoch 9/10\n",
            "469/469 [==============================] - 3s 6ms/step - loss: 4.2370e-04 - accuracy: 1.0000\n",
            "Epoch 10/10\n",
            "469/469 [==============================] - 3s 6ms/step - loss: 3.4190e-04 - accuracy: 1.0000\n",
            "313/313 [==============================] - 1s 2ms/step - loss: 0.0664 - accuracy: 0.9842\n",
            "test_accunacy: 0.9842000007629395\n",
            "test_loss: 0.06642051041126251\n"
          ]
        }
      ]
    },
    {
      "cell_type": "code",
      "source": [
        "\n",
        "model.save('model1.h5')\n",
        "model11= load_model('model1.h5')\n",
        "label1=model11.predict(test_images[10])"
      ],
      "metadata": {
        "id": "YA-9TeIqfvR4"
      },
      "execution_count": null,
      "outputs": []
    },
    {
      "cell_type": "code",
      "source": [],
      "metadata": {
        "id": "uwd2Mj6xDquY"
      },
      "execution_count": null,
      "outputs": []
    }
  ]
}