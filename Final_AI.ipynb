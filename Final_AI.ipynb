{
  "nbformat": 4,
  "nbformat_minor": 0,
  "metadata": {
    "colab": {
      "provenance": [],
      "gpuType": "T4",
      "authorship_tag": "ABX9TyPL4kLNOWzXJVL2GeZyr1mz",
      "include_colab_link": true
    },
    "kernelspec": {
      "name": "python3",
      "display_name": "Python 3"
    },
    "language_info": {
      "name": "python"
    },
    "accelerator": "GPU",
    "gpuClass": "standard"
  },
  "cells": [
    {
      "cell_type": "markdown",
      "metadata": {
        "id": "view-in-github",
        "colab_type": "text"
      },
      "source": [
        "<a href=\"https://colab.research.google.com/github/TranHaoDong/BT_AI_WEEK9-15/blob/main/Final_AI.ipynb\" target=\"_parent\"><img src=\"https://colab.research.google.com/assets/colab-badge.svg\" alt=\"Open In Colab\"/></a>"
      ]
    },
    {
      "cell_type": "code",
      "execution_count": 1,
      "metadata": {
        "colab": {
          "base_uri": "https://localhost:8080/"
        },
        "id": "b-FQCdt3jtm8",
        "outputId": "335c5225-cf4f-4cda-c101-912d9f3e378d"
      },
      "outputs": [
        {
          "output_type": "stream",
          "name": "stdout",
          "text": [
            "Mounted at /content/drive\n"
          ]
        }
      ],
      "source": [
        "from google.colab import drive\n",
        "drive.mount('/content/drive')"
      ]
    },
    {
      "cell_type": "code",
      "source": [
        "from tensorflow.keras.preprocessing.image import ImageDataGenerator\n",
        "drive.mount('/content/drive',force_remount=True)\n",
        "\n",
        "train_datagen = ImageDataGenerator(rescale=1./255,\n",
        "                                   shear_range=0.2,\n",
        "                                   zoom_range=0.2,\n",
        "                                   horizontal_flip=True)\n",
        "train=train_datagen.flow_from_directory('/content/drive/MyDrive/Rice_Disease/Train',\n",
        "                                               target_size=(64,64),\n",
        "                                               batch_size=32,\n",
        "                                               class_mode ='categorical')\n",
        "test=train_datagen.flow_from_directory('/content/drive/MyDrive/Rice_Disease/Test',\n",
        "                                               target_size=(64,64),\n",
        "                                               batch_size=32,\n",
        "                                               class_mode ='categorical')"
      ],
      "metadata": {
        "colab": {
          "base_uri": "https://localhost:8080/"
        },
        "id": "e33AmKONjvSh",
        "outputId": "e8863dc0-bac9-43b4-f519-15df4d97a110"
      },
      "execution_count": 2,
      "outputs": [
        {
          "output_type": "stream",
          "name": "stdout",
          "text": [
            "Mounted at /content/drive\n",
            "Found 1061 images belonging to 5 classes.\n",
            "Found 100 images belonging to 5 classes.\n"
          ]
        }
      ]
    },
    {
      "cell_type": "code",
      "source": [
        "import tensorflow as tf\n",
        "from tensorflow import keras\n",
        "from keras.models import Sequential\n",
        "from keras.layers.convolutional import Conv2D, MaxPooling2D\n",
        "from keras.layers import Flatten, Dense, Dropout, Activation\n",
        "\n",
        "model = Sequential()\n",
        "model.add(Conv2D(32,(3,3),activation = 'relu',kernel_initializer='he_uniform',padding='same',input_shape=(64,64,3)))\n",
        "model.add(Conv2D(32,(3,3),activation = 'relu',kernel_initializer='he_uniform',padding='same'))\n",
        "model.add(MaxPooling2D((2,2)))\n",
        "model.add(Dropout(0.2))\n",
        "model.add(Conv2D(64,(3,3),activation = 'relu',kernel_initializer='he_uniform',padding='same'))\n",
        "model.add(Conv2D(64,(3,3),activation = 'relu',kernel_initializer='he_uniform',padding='same'))\n",
        "model.add(MaxPooling2D((2,2)))\n",
        "model.add(Dropout(0.2))\n",
        "model.add(Conv2D(128,(3,3),activation = 'relu',kernel_initializer='he_uniform',padding='same'))\n",
        "model.add(Conv2D(128,(3,3),activation = 'relu',kernel_initializer='he_uniform',padding='same'))\n",
        "model.add(MaxPooling2D((2,2)))\n",
        "model.add(Dropout(0.2))\n",
        "model.add(Flatten())\n",
        "model.add(Dense(256,activation='relu',kernel_initializer = 'he_uniform'))\n",
        "model.add(Dropout(0.2))\n",
        "model.add(Dense(128,activation='relu',kernel_initializer = 'he_uniform'))\n",
        "model.add(Dropout(0.2))\n",
        "model.add(Dense(5,activation='softmax'))\n",
        "\n",
        "model.summary()"
      ],
      "metadata": {
        "colab": {
          "base_uri": "https://localhost:8080/"
        },
        "id": "goXx1LovjybQ",
        "outputId": "044db131-e963-46d0-b9fd-3c91fce5240a"
      },
      "execution_count": 3,
      "outputs": [
        {
          "output_type": "stream",
          "name": "stdout",
          "text": [
            "Model: \"sequential\"\n",
            "_________________________________________________________________\n",
            " Layer (type)                Output Shape              Param #   \n",
            "=================================================================\n",
            " conv2d (Conv2D)             (None, 64, 64, 32)        896       \n",
            "                                                                 \n",
            " conv2d_1 (Conv2D)           (None, 64, 64, 32)        9248      \n",
            "                                                                 \n",
            " max_pooling2d (MaxPooling2D  (None, 32, 32, 32)       0         \n",
            " )                                                               \n",
            "                                                                 \n",
            " dropout (Dropout)           (None, 32, 32, 32)        0         \n",
            "                                                                 \n",
            " conv2d_2 (Conv2D)           (None, 32, 32, 64)        18496     \n",
            "                                                                 \n",
            " conv2d_3 (Conv2D)           (None, 32, 32, 64)        36928     \n",
            "                                                                 \n",
            " max_pooling2d_1 (MaxPooling  (None, 16, 16, 64)       0         \n",
            " 2D)                                                             \n",
            "                                                                 \n",
            " dropout_1 (Dropout)         (None, 16, 16, 64)        0         \n",
            "                                                                 \n",
            " conv2d_4 (Conv2D)           (None, 16, 16, 128)       73856     \n",
            "                                                                 \n",
            " conv2d_5 (Conv2D)           (None, 16, 16, 128)       147584    \n",
            "                                                                 \n",
            " max_pooling2d_2 (MaxPooling  (None, 8, 8, 128)        0         \n",
            " 2D)                                                             \n",
            "                                                                 \n",
            " dropout_2 (Dropout)         (None, 8, 8, 128)         0         \n",
            "                                                                 \n",
            " flatten (Flatten)           (None, 8192)              0         \n",
            "                                                                 \n",
            " dense (Dense)               (None, 256)               2097408   \n",
            "                                                                 \n",
            " dropout_3 (Dropout)         (None, 256)               0         \n",
            "                                                                 \n",
            " dense_1 (Dense)             (None, 128)               32896     \n",
            "                                                                 \n",
            " dropout_4 (Dropout)         (None, 128)               0         \n",
            "                                                                 \n",
            " dense_2 (Dense)             (None, 5)                 645       \n",
            "                                                                 \n",
            "=================================================================\n",
            "Total params: 2,417,957\n",
            "Trainable params: 2,417,957\n",
            "Non-trainable params: 0\n",
            "_________________________________________________________________\n"
          ]
        }
      ]
    },
    {
      "cell_type": "code",
      "source": [
        "# Thiết lập thông số\n",
        "from keras.optimizers import Adam\n",
        "model.compile( loss = 'categorical_crossentropy', optimizer=Adam(), metrics = ['accuracy'])"
      ],
      "metadata": {
        "id": "rynxipwCj5zM"
      },
      "execution_count": 4,
      "outputs": []
    },
    {
      "cell_type": "code",
      "source": [
        "# Training \n",
        "history = model.fit_generator( train, validation_data=test, epochs=80, steps_per_epoch=len(train), \n",
        "                        validation_steps=len(test))"
      ],
      "metadata": {
        "colab": {
          "base_uri": "https://localhost:8080/"
        },
        "id": "9ZeLqzLvj8s5",
        "outputId": "e03b5b40-d856-4fe2-c819-60ebcd522e26"
      },
      "execution_count": 5,
      "outputs": [
        {
          "output_type": "stream",
          "name": "stderr",
          "text": [
            "<ipython-input-5-dc138aa8dc19>:2: UserWarning: `Model.fit_generator` is deprecated and will be removed in a future version. Please use `Model.fit`, which supports generators.\n",
            "  history = model.fit_generator( train, validation_data=test, epochs=80, steps_per_epoch=len(train),\n"
          ]
        },
        {
          "output_type": "stream",
          "name": "stdout",
          "text": [
            "Epoch 1/80\n",
            "34/34 [==============================] - 259s 7s/step - loss: 2.0611 - accuracy: 0.2941 - val_loss: 1.5154 - val_accuracy: 0.4000\n",
            "Epoch 2/80\n",
            "34/34 [==============================] - 65s 2s/step - loss: 1.3917 - accuracy: 0.3666 - val_loss: 1.3959 - val_accuracy: 0.4100\n",
            "Epoch 3/80\n",
            "34/34 [==============================] - 64s 2s/step - loss: 1.3094 - accuracy: 0.4270 - val_loss: 1.1693 - val_accuracy: 0.5300\n",
            "Epoch 4/80\n",
            "34/34 [==============================] - 62s 2s/step - loss: 1.1296 - accuracy: 0.5071 - val_loss: 1.0827 - val_accuracy: 0.6000\n",
            "Epoch 5/80\n",
            "34/34 [==============================] - 64s 2s/step - loss: 1.0423 - accuracy: 0.5212 - val_loss: 1.0421 - val_accuracy: 0.5700\n",
            "Epoch 6/80\n",
            "34/34 [==============================] - 65s 2s/step - loss: 0.9614 - accuracy: 0.5834 - val_loss: 1.0050 - val_accuracy: 0.5400\n",
            "Epoch 7/80\n",
            "34/34 [==============================] - 68s 2s/step - loss: 0.8491 - accuracy: 0.6409 - val_loss: 0.8034 - val_accuracy: 0.6700\n",
            "Epoch 8/80\n",
            "34/34 [==============================] - 68s 2s/step - loss: 0.8753 - accuracy: 0.6466 - val_loss: 0.7703 - val_accuracy: 0.6900\n",
            "Epoch 9/80\n",
            "34/34 [==============================] - 63s 2s/step - loss: 0.8147 - accuracy: 0.6607 - val_loss: 0.8642 - val_accuracy: 0.6700\n",
            "Epoch 10/80\n",
            "34/34 [==============================] - 62s 2s/step - loss: 0.7793 - accuracy: 0.6852 - val_loss: 0.7090 - val_accuracy: 0.7100\n",
            "Epoch 11/80\n",
            "34/34 [==============================] - 67s 2s/step - loss: 0.7695 - accuracy: 0.6814 - val_loss: 0.7181 - val_accuracy: 0.7000\n",
            "Epoch 12/80\n",
            "34/34 [==============================] - 63s 2s/step - loss: 0.7641 - accuracy: 0.6730 - val_loss: 0.7827 - val_accuracy: 0.6900\n",
            "Epoch 13/80\n",
            "34/34 [==============================] - 62s 2s/step - loss: 0.9084 - accuracy: 0.6192 - val_loss: 0.9026 - val_accuracy: 0.6600\n",
            "Epoch 14/80\n",
            "34/34 [==============================] - 62s 2s/step - loss: 0.7602 - accuracy: 0.7031 - val_loss: 0.7104 - val_accuracy: 0.7600\n",
            "Epoch 15/80\n",
            "34/34 [==============================] - 62s 2s/step - loss: 0.7519 - accuracy: 0.6880 - val_loss: 0.7597 - val_accuracy: 0.6700\n",
            "Epoch 16/80\n",
            "34/34 [==============================] - 62s 2s/step - loss: 0.7078 - accuracy: 0.6909 - val_loss: 0.5890 - val_accuracy: 0.7500\n",
            "Epoch 17/80\n",
            "34/34 [==============================] - 62s 2s/step - loss: 0.6658 - accuracy: 0.7201 - val_loss: 0.7975 - val_accuracy: 0.7400\n",
            "Epoch 18/80\n",
            "34/34 [==============================] - 61s 2s/step - loss: 0.7223 - accuracy: 0.6984 - val_loss: 0.6021 - val_accuracy: 0.7500\n",
            "Epoch 19/80\n",
            "34/34 [==============================] - 61s 2s/step - loss: 0.6950 - accuracy: 0.7097 - val_loss: 0.5784 - val_accuracy: 0.8200\n",
            "Epoch 20/80\n",
            "34/34 [==============================] - 64s 2s/step - loss: 0.6545 - accuracy: 0.7342 - val_loss: 0.5475 - val_accuracy: 0.7900\n",
            "Epoch 21/80\n",
            "34/34 [==============================] - 61s 2s/step - loss: 0.6853 - accuracy: 0.7201 - val_loss: 0.5466 - val_accuracy: 0.8200\n",
            "Epoch 22/80\n",
            "34/34 [==============================] - 62s 2s/step - loss: 0.6300 - accuracy: 0.7455 - val_loss: 0.4621 - val_accuracy: 0.8300\n",
            "Epoch 23/80\n",
            "34/34 [==============================] - 68s 2s/step - loss: 0.6449 - accuracy: 0.7286 - val_loss: 0.5271 - val_accuracy: 0.7900\n",
            "Epoch 24/80\n",
            "34/34 [==============================] - 62s 2s/step - loss: 0.6429 - accuracy: 0.7502 - val_loss: 0.8395 - val_accuracy: 0.7600\n",
            "Epoch 25/80\n",
            "34/34 [==============================] - 61s 2s/step - loss: 0.7187 - accuracy: 0.7182 - val_loss: 0.5713 - val_accuracy: 0.7800\n",
            "Epoch 26/80\n",
            "34/34 [==============================] - 61s 2s/step - loss: 0.6142 - accuracy: 0.7323 - val_loss: 0.4858 - val_accuracy: 0.8500\n",
            "Epoch 27/80\n",
            "34/34 [==============================] - 64s 2s/step - loss: 0.5680 - accuracy: 0.7672 - val_loss: 0.3872 - val_accuracy: 0.8200\n",
            "Epoch 28/80\n",
            "34/34 [==============================] - 62s 2s/step - loss: 0.5998 - accuracy: 0.7644 - val_loss: 0.5337 - val_accuracy: 0.8600\n",
            "Epoch 29/80\n",
            "34/34 [==============================] - 61s 2s/step - loss: 0.5551 - accuracy: 0.7729 - val_loss: 0.7136 - val_accuracy: 0.7500\n",
            "Epoch 30/80\n",
            "34/34 [==============================] - 62s 2s/step - loss: 0.6116 - accuracy: 0.7446 - val_loss: 0.4258 - val_accuracy: 0.8200\n",
            "Epoch 31/80\n",
            "34/34 [==============================] - 63s 2s/step - loss: 0.6506 - accuracy: 0.7370 - val_loss: 0.4110 - val_accuracy: 0.8100\n",
            "Epoch 32/80\n",
            "34/34 [==============================] - 61s 2s/step - loss: 0.5811 - accuracy: 0.7446 - val_loss: 0.5538 - val_accuracy: 0.8500\n",
            "Epoch 33/80\n",
            "34/34 [==============================] - 62s 2s/step - loss: 0.5359 - accuracy: 0.7813 - val_loss: 0.3951 - val_accuracy: 0.8400\n",
            "Epoch 34/80\n",
            "34/34 [==============================] - 62s 2s/step - loss: 0.4957 - accuracy: 0.7955 - val_loss: 0.4335 - val_accuracy: 0.8400\n",
            "Epoch 35/80\n",
            "34/34 [==============================] - 62s 2s/step - loss: 0.4968 - accuracy: 0.7983 - val_loss: 0.3861 - val_accuracy: 0.8600\n",
            "Epoch 36/80\n",
            "34/34 [==============================] - 61s 2s/step - loss: 0.5181 - accuracy: 0.7851 - val_loss: 0.4254 - val_accuracy: 0.8600\n",
            "Epoch 37/80\n",
            "34/34 [==============================] - 62s 2s/step - loss: 0.5267 - accuracy: 0.7738 - val_loss: 0.3611 - val_accuracy: 0.8900\n",
            "Epoch 38/80\n",
            "34/34 [==============================] - 64s 2s/step - loss: 0.5036 - accuracy: 0.7813 - val_loss: 0.3269 - val_accuracy: 0.8700\n",
            "Epoch 39/80\n",
            "34/34 [==============================] - 61s 2s/step - loss: 0.4775 - accuracy: 0.8040 - val_loss: 0.3267 - val_accuracy: 0.8900\n",
            "Epoch 40/80\n",
            "34/34 [==============================] - 62s 2s/step - loss: 0.5107 - accuracy: 0.7908 - val_loss: 0.4025 - val_accuracy: 0.8700\n",
            "Epoch 41/80\n",
            "34/34 [==============================] - 61s 2s/step - loss: 0.5499 - accuracy: 0.7804 - val_loss: 0.3705 - val_accuracy: 0.9000\n",
            "Epoch 42/80\n",
            "34/34 [==============================] - 63s 2s/step - loss: 0.4708 - accuracy: 0.8096 - val_loss: 0.4128 - val_accuracy: 0.8600\n",
            "Epoch 43/80\n",
            "34/34 [==============================] - 62s 2s/step - loss: 0.4703 - accuracy: 0.8124 - val_loss: 0.2984 - val_accuracy: 0.8800\n",
            "Epoch 44/80\n",
            "34/34 [==============================] - 61s 2s/step - loss: 0.4576 - accuracy: 0.8162 - val_loss: 0.3240 - val_accuracy: 0.8600\n",
            "Epoch 45/80\n",
            "34/34 [==============================] - 66s 2s/step - loss: 0.4606 - accuracy: 0.8049 - val_loss: 0.4006 - val_accuracy: 0.7800\n",
            "Epoch 46/80\n",
            "34/34 [==============================] - 61s 2s/step - loss: 0.4403 - accuracy: 0.8238 - val_loss: 0.2589 - val_accuracy: 0.9200\n",
            "Epoch 47/80\n",
            "34/34 [==============================] - 62s 2s/step - loss: 0.4363 - accuracy: 0.8247 - val_loss: 0.2914 - val_accuracy: 0.8900\n",
            "Epoch 48/80\n",
            "34/34 [==============================] - 62s 2s/step - loss: 0.4273 - accuracy: 0.8247 - val_loss: 0.3862 - val_accuracy: 0.8700\n",
            "Epoch 49/80\n",
            "34/34 [==============================] - 63s 2s/step - loss: 0.4110 - accuracy: 0.8351 - val_loss: 0.3362 - val_accuracy: 0.8300\n",
            "Epoch 50/80\n",
            "34/34 [==============================] - 62s 2s/step - loss: 0.3673 - accuracy: 0.8662 - val_loss: 0.2663 - val_accuracy: 0.9100\n",
            "Epoch 51/80\n",
            "34/34 [==============================] - 61s 2s/step - loss: 0.4651 - accuracy: 0.8162 - val_loss: 0.2540 - val_accuracy: 0.8800\n",
            "Epoch 52/80\n",
            "34/34 [==============================] - 62s 2s/step - loss: 0.5076 - accuracy: 0.8096 - val_loss: 0.4642 - val_accuracy: 0.8500\n",
            "Epoch 53/80\n",
            "34/34 [==============================] - 62s 2s/step - loss: 0.3746 - accuracy: 0.8322 - val_loss: 0.3183 - val_accuracy: 0.8300\n",
            "Epoch 54/80\n",
            "34/34 [==============================] - 62s 2s/step - loss: 0.3707 - accuracy: 0.8539 - val_loss: 0.3127 - val_accuracy: 0.9200\n",
            "Epoch 55/80\n",
            "34/34 [==============================] - 61s 2s/step - loss: 0.3710 - accuracy: 0.8388 - val_loss: 0.3095 - val_accuracy: 0.8800\n",
            "Epoch 56/80\n",
            "34/34 [==============================] - 67s 2s/step - loss: 0.3716 - accuracy: 0.8464 - val_loss: 0.1936 - val_accuracy: 0.8900\n",
            "Epoch 57/80\n",
            "34/34 [==============================] - 68s 2s/step - loss: 0.3509 - accuracy: 0.8483 - val_loss: 0.1945 - val_accuracy: 0.9400\n",
            "Epoch 58/80\n",
            "34/34 [==============================] - 62s 2s/step - loss: 0.3468 - accuracy: 0.8690 - val_loss: 0.1962 - val_accuracy: 0.9400\n",
            "Epoch 59/80\n",
            "34/34 [==============================] - 61s 2s/step - loss: 0.3177 - accuracy: 0.8841 - val_loss: 0.2294 - val_accuracy: 0.9200\n",
            "Epoch 60/80\n",
            "34/34 [==============================] - 61s 2s/step - loss: 0.3947 - accuracy: 0.8511 - val_loss: 0.3658 - val_accuracy: 0.8900\n",
            "Epoch 61/80\n",
            "34/34 [==============================] - 62s 2s/step - loss: 0.3720 - accuracy: 0.8501 - val_loss: 0.2560 - val_accuracy: 0.9000\n",
            "Epoch 62/80\n",
            "34/34 [==============================] - 62s 2s/step - loss: 0.3547 - accuracy: 0.8586 - val_loss: 0.2622 - val_accuracy: 0.8800\n",
            "Epoch 63/80\n",
            "34/34 [==============================] - 61s 2s/step - loss: 0.3635 - accuracy: 0.8558 - val_loss: 0.1923 - val_accuracy: 0.9500\n",
            "Epoch 64/80\n",
            "34/34 [==============================] - 62s 2s/step - loss: 0.3383 - accuracy: 0.8539 - val_loss: 0.1852 - val_accuracy: 0.9300\n",
            "Epoch 65/80\n",
            "34/34 [==============================] - 62s 2s/step - loss: 0.4497 - accuracy: 0.8285 - val_loss: 0.3243 - val_accuracy: 0.9500\n",
            "Epoch 66/80\n",
            "34/34 [==============================] - 61s 2s/step - loss: 0.4540 - accuracy: 0.8238 - val_loss: 0.1770 - val_accuracy: 0.9300\n",
            "Epoch 67/80\n",
            "34/34 [==============================] - 61s 2s/step - loss: 0.3391 - accuracy: 0.8709 - val_loss: 0.2564 - val_accuracy: 0.9100\n",
            "Epoch 68/80\n",
            "34/34 [==============================] - 63s 2s/step - loss: 0.3567 - accuracy: 0.8652 - val_loss: 0.2172 - val_accuracy: 0.8900\n",
            "Epoch 69/80\n",
            "34/34 [==============================] - 61s 2s/step - loss: 0.2985 - accuracy: 0.8822 - val_loss: 0.2095 - val_accuracy: 0.9300\n",
            "Epoch 70/80\n",
            "34/34 [==============================] - 61s 2s/step - loss: 0.2880 - accuracy: 0.8775 - val_loss: 0.2393 - val_accuracy: 0.9300\n",
            "Epoch 71/80\n",
            "34/34 [==============================] - 62s 2s/step - loss: 0.3285 - accuracy: 0.8624 - val_loss: 0.1427 - val_accuracy: 0.9700\n",
            "Epoch 72/80\n",
            "34/34 [==============================] - 62s 2s/step - loss: 0.3583 - accuracy: 0.8633 - val_loss: 0.1476 - val_accuracy: 0.9400\n",
            "Epoch 73/80\n",
            "34/34 [==============================] - 61s 2s/step - loss: 0.2842 - accuracy: 0.8926 - val_loss: 0.2064 - val_accuracy: 0.9300\n",
            "Epoch 74/80\n",
            "34/34 [==============================] - 61s 2s/step - loss: 0.3393 - accuracy: 0.8699 - val_loss: 0.5110 - val_accuracy: 0.8000\n",
            "Epoch 75/80\n",
            "34/34 [==============================] - 68s 2s/step - loss: 0.5331 - accuracy: 0.8021 - val_loss: 0.3852 - val_accuracy: 0.8600\n",
            "Epoch 76/80\n",
            "34/34 [==============================] - 67s 2s/step - loss: 0.3335 - accuracy: 0.8794 - val_loss: 0.2335 - val_accuracy: 0.8900\n",
            "Epoch 77/80\n",
            "34/34 [==============================] - 61s 2s/step - loss: 0.2971 - accuracy: 0.8869 - val_loss: 0.2370 - val_accuracy: 0.8900\n",
            "Epoch 78/80\n",
            "34/34 [==============================] - 65s 2s/step - loss: 0.2720 - accuracy: 0.9086 - val_loss: 0.1273 - val_accuracy: 0.9700\n",
            "Epoch 79/80\n",
            "34/34 [==============================] - 64s 2s/step - loss: 0.3040 - accuracy: 0.8822 - val_loss: 0.2512 - val_accuracy: 0.9000\n",
            "Epoch 80/80\n",
            "34/34 [==============================] - 61s 2s/step - loss: 0.2972 - accuracy: 0.8916 - val_loss: 0.1138 - val_accuracy: 0.9600\n"
          ]
        }
      ]
    },
    {
      "cell_type": "code",
      "source": [
        "#Tạo file inception\n",
        "from tensorflow.keras.models import load_model\n",
        "\n",
        "model.save('/content/drive/MyDrive/Rice_Disease/model_rice_disease.h5')"
      ],
      "metadata": {
        "id": "JKuFTvjFC059"
      },
      "execution_count": 6,
      "outputs": []
    },
    {
      "cell_type": "code",
      "source": [
        "from tensorflow.keras.preprocessing import image\n",
        "model=load_model('/content/drive/MyDrive/Rice_Disease/model_rice_disease.h5')\n",
        "model"
      ],
      "metadata": {
        "colab": {
          "base_uri": "https://localhost:8080/"
        },
        "id": "MQnbfV6GD1yv",
        "outputId": "9b37ed5d-bdb9-4a19-c097-a7e73ff3628d"
      },
      "execution_count": 7,
      "outputs": [
        {
          "output_type": "execute_result",
          "data": {
            "text/plain": [
              "<keras.engine.sequential.Sequential at 0x7f407cc66440>"
            ]
          },
          "metadata": {},
          "execution_count": 7
        }
      ]
    },
    {
      "cell_type": "code",
      "source": [
        "import matplotlib.pyplot as plt\n",
        "score = model.evaluate(test,verbose=0)\n",
        "print('Test loss= ',score[0])\n",
        "print('Test accuracy= ',score[1])\n",
        "plt.plot(history.history['accuracy'])\n",
        "plt.plot(history.history['val_accuracy'])\n",
        "plt.title('Model Accuracy')\n",
        "plt.ylabel('accuracy')\n",
        "plt.xlabel('epoch')\n",
        "plt.legend(['train','validation'],loc='upper left')"
      ],
      "metadata": {
        "colab": {
          "base_uri": "https://localhost:8080/",
          "height": 524
        },
        "id": "gMMkaGdwD646",
        "outputId": "874719f3-7624-4b4f-d50d-c2f0c5eb8289"
      },
      "execution_count": 8,
      "outputs": [
        {
          "output_type": "stream",
          "name": "stdout",
          "text": [
            "Test loss=  0.22194787859916687\n",
            "Test accuracy=  0.8899999856948853\n"
          ]
        },
        {
          "output_type": "execute_result",
          "data": {
            "text/plain": [
              "<matplotlib.legend.Legend at 0x7f3fe01a6950>"
            ]
          },
          "metadata": {},
          "execution_count": 8
        },
        {
          "output_type": "display_data",
          "data": {
            "text/plain": [
              "<Figure size 640x480 with 1 Axes>"
            ],
            "image/png": "[encoded data removed]"
          },
          "metadata": {}
        }
      ]
    },
    {
      "cell_type": "code",
      "source": [],
      "metadata": {
        "id": "d4RrfjGvD7Zr"
      },
      "execution_count": null,
      "outputs": []
    }
  ]
}